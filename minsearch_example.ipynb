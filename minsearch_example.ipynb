{
 "cells": [
  {
   "cell_type": "code",
   "execution_count": 1,
   "id": "9b3e2880-5f04-49ad-b914-9aa1996260ce",
   "metadata": {},
   "outputs": [],
   "source": [
    "%load_ext autoreload\n",
    "%autoreload 2"
   ]
  },
  {
   "cell_type": "code",
   "execution_count": 2,
   "id": "df706ceb-2696-41b3-a108-a4740815630f",
   "metadata": {},
   "outputs": [],
   "source": [
    "import json"
   ]
  },
  {
   "cell_type": "code",
   "execution_count": 3,
   "id": "efa9ead1-25c5-4c32-a65f-295fc97f657a",
   "metadata": {},
   "outputs": [],
   "source": [
    "import requests \n",
    "\n",
    "docs_url = 'https://github.com/alexeygrigorev/llm-rag-workshop/raw/main/notebooks/documents.json'\n",
    "docs_response = requests.get(docs_url)\n",
    "documents_raw = docs_response.json()\n",
    "\n",
    "documents = []\n",
    "\n",
    "for course in documents_raw:\n",
    "    course_name = course['course']\n",
    "\n",
    "    for doc in course['documents']:\n",
    "        doc['course'] = course_name\n",
    "        documents.append(doc)"
   ]
  },
  {
   "cell_type": "code",
   "execution_count": 4,
   "id": "aeeeb1a2-a229-4e89-abbc-7e0e3752a465",
   "metadata": {},
   "outputs": [],
   "source": [
    "import minsearch"
   ]
  },
  {
   "cell_type": "markdown",
   "id": "c822d82f-51ac-4509-b222-3236b60e3d2e",
   "metadata": {},
   "source": [
    "## Usual index"
   ]
  },
  {
   "cell_type": "code",
   "execution_count": 5,
   "id": "89df49e2-a546-4878-a913-6a6173302385",
   "metadata": {},
   "outputs": [
    {
     "data": {
      "text/plain": [
       "<minsearch.minsearch.Index at 0x1f7fdb1c8f0>"
      ]
     },
     "execution_count": 5,
     "metadata": {},
     "output_type": "execute_result"
    }
   ],
   "source": [
    "index = minsearch.Index(\n",
    "    text_fields=[\"question\", \"text\", \"section\"],\n",
    "    keyword_fields=[\"course\"]\n",
    ")\n",
    "\n",
    "index.fit(documents)"
   ]
  },
  {
   "cell_type": "code",
   "execution_count": 6,
   "id": "c69cae5d-fe64-44b6-8b43-e05a424377bd",
   "metadata": {},
   "outputs": [
    {
     "name": "stdout",
     "output_type": "stream",
     "text": [
      "{\n",
      "  \"text\": \"Yes, even if you don't register, you're still eligible to submit the homeworks.\\nBe aware, however, that there will be deadlines for turning in the final projects. So don't leave everything for the last minute.\",\n",
      "  \"section\": \"General course-related questions\",\n",
      "  \"question\": \"Course - Can I still join the course after the start date?\",\n",
      "  \"course\": \"data-engineering-zoomcamp\"\n",
      "}\n",
      "{\n",
      "  \"text\": \"Yes, we will keep all the materials after the course finishes, so you can follow the course at your own pace after it finishes.\\nYou can also continue looking at the homeworks and continue preparing for the next cohort. I guess you can also start working on your final capstone project.\",\n",
      "  \"section\": \"General course-related questions\",\n",
      "  \"question\": \"Course - Can I follow the course after it finishes?\",\n",
      "  \"course\": \"data-engineering-zoomcamp\"\n",
      "}\n",
      "{\n",
      "  \"text\": \"Yes, the slack channel remains open and you can ask questions there. But always sDocker containers exit code w search the channel first and second, check the FAQ (this document), most likely all your questions are already answered here.\\nYou can also tag the bot @ZoomcampQABot to help you conduct the search, but don\\u2019t rely on its answers 100%, it is pretty good though.\",\n",
      "  \"section\": \"General course-related questions\",\n",
      "  \"question\": \"Course - Can I get support if I take the course in the self-paced mode?\",\n",
      "  \"course\": \"data-engineering-zoomcamp\"\n",
      "}\n",
      "{\n",
      "  \"text\": \"The purpose of this document is to capture frequently asked technical questions\\nThe exact day and hour of the course will be 15th Jan 2024 at 17h00. The course will start with the first  \\u201cOffice Hours'' live.1\\nSubscribe to course public Google Calendar (it works from Desktop only).\\nRegister before the course starts using this link.\\nJoin the course Telegram channel with announcements.\\nDon\\u2019t forget to register in DataTalks.Club's Slack and join the channel.\",\n",
      "  \"section\": \"General course-related questions\",\n",
      "  \"question\": \"Course - When will the course start?\",\n",
      "  \"course\": \"data-engineering-zoomcamp\"\n",
      "}\n",
      "{\n",
      "  \"text\": \"You can start by installing and setting up all the dependencies and requirements:\\nGoogle cloud account\\nGoogle Cloud SDK\\nPython 3 (installed with Anaconda)\\nTerraform\\nGit\\nLook over the prerequisites and syllabus to see if you are comfortable with these subjects.\",\n",
      "  \"section\": \"General course-related questions\",\n",
      "  \"question\": \"Course - What can I do before the course starts?\",\n",
      "  \"course\": \"data-engineering-zoomcamp\"\n",
      "}\n"
     ]
    }
   ],
   "source": [
    "query = \"Can I join the course if it has already started?\"\n",
    "\n",
    "filter_dict = {\"course\": \"data-engineering-zoomcamp\"}\n",
    "boost_dict = {\"question\": 3}\n",
    "\n",
    "results = index.search(query, filter_dict, boost_dict, num_results=5)\n",
    "\n",
    "for result in results:\n",
    "    print(json.dumps(result, indent=2))"
   ]
  },
  {
   "cell_type": "markdown",
   "id": "1fa05fae-b9fc-47f1-90a5-69078aab390f",
   "metadata": {},
   "source": [
    "## Appendable index"
   ]
  },
  {
   "cell_type": "code",
   "execution_count": 7,
   "id": "3fd52057-0653-4196-b3f8-2955e441f099",
   "metadata": {},
   "outputs": [
    {
     "data": {
      "text/plain": [
       "<minsearch.append.AppendableIndex at 0x1f7db661ac0>"
      ]
     },
     "execution_count": 7,
     "metadata": {},
     "output_type": "execute_result"
    }
   ],
   "source": [
    "index = minsearch.AppendableIndex(\n",
    "    text_fields=[\"question\", \"text\", \"section\"],\n",
    "    keyword_fields=[\"course\"]\n",
    ")\n",
    "\n",
    "index.fit(documents)"
   ]
  },
  {
   "cell_type": "code",
   "execution_count": 8,
   "id": "cf9148e1-0425-453b-b72f-d4f53819a2a5",
   "metadata": {},
   "outputs": [
    {
     "name": "stdout",
     "output_type": "stream",
     "text": [
      "{\n",
      "  \"text\": \"Yes, even if you don't register, you're still eligible to submit the homeworks.\\nBe aware, however, that there will be deadlines for turning in the final projects. So don't leave everything for the last minute.\",\n",
      "  \"section\": \"General course-related questions\",\n",
      "  \"question\": \"Course - Can I still join the course after the start date?\",\n",
      "  \"course\": \"data-engineering-zoomcamp\"\n",
      "}\n",
      "{\n",
      "  \"text\": \"Yes, the slack channel remains open and you can ask questions there. But always sDocker containers exit code w search the channel first and second, check the FAQ (this document), most likely all your questions are already answered here.\\nYou can also tag the bot @ZoomcampQABot to help you conduct the search, but don\\u2019t rely on its answers 100%, it is pretty good though.\",\n",
      "  \"section\": \"General course-related questions\",\n",
      "  \"question\": \"Course - Can I get support if I take the course in the self-paced mode?\",\n",
      "  \"course\": \"data-engineering-zoomcamp\"\n",
      "}\n",
      "{\n",
      "  \"text\": \"No, you can only get a certificate if you finish the course with a \\u201clive\\u201d cohort. We don't award certificates for the self-paced mode. The reason is you need to peer-review capstone(s) after submitting a project. You can only peer-review projects at the time the course is running.\",\n",
      "  \"section\": \"General course-related questions\",\n",
      "  \"question\": \"Certificate - Can I follow the course in a self-paced mode and get a certificate?\",\n",
      "  \"course\": \"data-engineering-zoomcamp\"\n",
      "}\n",
      "{\n",
      "  \"text\": \"Yes, we will keep all the materials after the course finishes, so you can follow the course at your own pace after it finishes.\\nYou can also continue looking at the homeworks and continue preparing for the next cohort. I guess you can also start working on your final capstone project.\",\n",
      "  \"section\": \"General course-related questions\",\n",
      "  \"question\": \"Course - Can I follow the course after it finishes?\",\n",
      "  \"course\": \"data-engineering-zoomcamp\"\n",
      "}\n",
      "{\n",
      "  \"text\": \"It's up to you which platform and environment you use for the course.\\nGithub codespaces or GCP VM are just possible options, but you can do the entire course from your laptop.\",\n",
      "  \"section\": \"General course-related questions\",\n",
      "  \"question\": \"Environment - Do we really have to use GitHub codespaces? I already have PostgreSQL & Docker installed.\",\n",
      "  \"course\": \"data-engineering-zoomcamp\"\n",
      "}\n"
     ]
    }
   ],
   "source": [
    "query = \"Can I join the course if it has already started?\"\n",
    "\n",
    "filter_dict = {\"course\": \"data-engineering-zoomcamp\"}\n",
    "boost_dict = {\"question\": 3}\n",
    "\n",
    "results = index.search(query, filter_dict, boost_dict, num_results=5)\n",
    "\n",
    "for result in results:\n",
    "    print(json.dumps(result, indent=2))"
   ]
  },
  {
   "cell_type": "code",
   "execution_count": null,
   "id": "a16f60f4-16a5-4600-bb62-53c6dfcfb482",
   "metadata": {},
   "outputs": [],
   "source": []
  },
  {
   "cell_type": "code",
   "execution_count": null,
   "id": "d37113a8-b914-4936-ba32-fb1e4ae31568",
   "metadata": {},
   "outputs": [],
   "source": []
  },
  {
   "cell_type": "code",
   "execution_count": null,
   "id": "913de9dd-4b08-4a1b-9907-af1822cfab61",
   "metadata": {},
   "outputs": [],
   "source": []
  }
 ],
 "metadata": {
  "kernelspec": {
   "display_name": "Python 3 (ipykernel)",
   "language": "python",
   "name": "python3"
  },
  "language_info": {
   "codemirror_mode": {
    "name": "ipython",
    "version": 3
   },
   "file_extension": ".py",
   "mimetype": "text/x-python",
   "name": "python",
   "nbconvert_exporter": "python",
   "pygments_lexer": "ipython3",
   "version": "3.12.3"
  }
 },
 "nbformat": 4,
 "nbformat_minor": 5
}
